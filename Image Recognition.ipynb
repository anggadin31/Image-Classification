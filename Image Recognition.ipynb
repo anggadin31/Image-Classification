{
  "nbformat": 4,
  "nbformat_minor": 0,
  "metadata": {
    "colab": {
      "name": "Submission_Fix.ipynb",
      "provenance": [],
      "collapsed_sections": []
    },
    "kernelspec": {
      "name": "python3",
      "display_name": "Python 3"
    }
  },
  "cells": [
    {
      "cell_type": "markdown",
      "metadata": {
        "id": "upaIQ5HuKLmK"
      },
      "source": [
        "\n",
        "\n",
        "> Nama : I Gede Angga Dinata\n",
        "\n",
        "\n",
        "> Username : I Gede Angga Dinata"
      ]
    },
    {
      "cell_type": "code",
      "metadata": {
        "id": "l-e9RNfwviPG"
      },
      "source": [
        "import tensorflow as tf"
      ],
      "execution_count": 1,
      "outputs": []
    },
    {
      "cell_type": "code",
      "metadata": {
        "id": "Bsjkpm8hvxdm",
        "outputId": "523ca5c1-1ebf-4996-93a8-ef161d5d5beb",
        "colab": {
          "base_uri": "https://localhost:8080/"
        }
      },
      "source": [
        "!wget --no-check-certificate \\\n",
        "   https://dicodingacademy.blob.core.windows.net/picodiploma/ml_pemula_academy/rockpaperscissors.zip \\\n",
        "   -O /tmp/rockpaperscissors.zip"
      ],
      "execution_count": 2,
      "outputs": [
        {
          "output_type": "stream",
          "text": [
            "--2020-10-30 15:43:05--  https://dicodingacademy.blob.core.windows.net/picodiploma/ml_pemula_academy/rockpaperscissors.zip\n",
            "Resolving dicodingacademy.blob.core.windows.net (dicodingacademy.blob.core.windows.net)... 52.239.197.36\n",
            "Connecting to dicodingacademy.blob.core.windows.net (dicodingacademy.blob.core.windows.net)|52.239.197.36|:443... connected.\n",
            "HTTP request sent, awaiting response... 200 OK\n",
            "Length: 322873683 (308M) [application/zip]\n",
            "Saving to: ‘/tmp/rockpaperscissors.zip’\n",
            "\n",
            "/tmp/rockpapersciss 100%[===================>] 307.92M  6.18MB/s    in 44s     \n",
            "\n",
            "2020-10-30 15:43:49 (7.05 MB/s) - ‘/tmp/rockpaperscissors.zip’ saved [322873683/322873683]\n",
            "\n"
          ],
          "name": "stdout"
        }
      ]
    },
    {
      "cell_type": "code",
      "metadata": {
        "id": "j2rH2gGxv0i6"
      },
      "source": [
        "import zipfile,os\n",
        "local_zip = '/tmp/rockpaperscissors.zip'\n",
        "zip_ref = zipfile.ZipFile(local_zip, 'r')\n",
        "zip_ref.extractall('/tmp')\n",
        "zip_ref.close()"
      ],
      "execution_count": 3,
      "outputs": []
    },
    {
      "cell_type": "code",
      "metadata": {
        "id": "accRUbAbv3CE",
        "outputId": "03e38b41-e29b-4364-a69d-d376400d8420",
        "colab": {
          "base_uri": "https://localhost:8080/"
        }
      },
      "source": [
        "pip install split-folders"
      ],
      "execution_count": 4,
      "outputs": [
        {
          "output_type": "stream",
          "text": [
            "Collecting split-folders\n",
            "  Downloading https://files.pythonhosted.org/packages/d1/4b/7b282b0f9319189d71e803220748929b37d019b67b1782d14c59cb1bd940/split_folders-0.4.2-py3-none-any.whl\n",
            "Installing collected packages: split-folders\n",
            "Successfully installed split-folders-0.4.2\n"
          ],
          "name": "stdout"
        }
      ]
    },
    {
      "cell_type": "code",
      "metadata": {
        "id": "DJw58JZ4v6Bz",
        "outputId": "cc59ec1b-3d0c-4449-d1dd-e2b9d3bcdc6b",
        "colab": {
          "base_uri": "https://localhost:8080/"
        }
      },
      "source": [
        "import splitfolders\n",
        "base_dir = '/tmp/rockpaperscissors'\n",
        "splitfolders.ratio(base_dir, output='/tmp/rockpaperscissors', seed=1337, ratio=(.6,.4))"
      ],
      "execution_count": 5,
      "outputs": [
        {
          "output_type": "stream",
          "text": [
            "Copying files: 2189 files [00:00, 3405.49 files/s]\n"
          ],
          "name": "stderr"
        }
      ]
    },
    {
      "cell_type": "code",
      "metadata": {
        "id": "eoVzL7aDv8tn"
      },
      "source": [
        "train_dir = os.path.join(base_dir,'train')\n",
        "val_dir = os.path.join(base_dir,'val')"
      ],
      "execution_count": 6,
      "outputs": []
    },
    {
      "cell_type": "code",
      "metadata": {
        "id": "d5hANPgsv-t-",
        "outputId": "1a52db13-1b4b-4fac-b038-fb31ec18ad44",
        "colab": {
          "base_uri": "https://localhost:8080/"
        }
      },
      "source": [
        "os.listdir('/tmp/rockpaperscissors/train')"
      ],
      "execution_count": 7,
      "outputs": [
        {
          "output_type": "execute_result",
          "data": {
            "text/plain": [
              "['scissors', 'paper', 'rock', 'rps-cv-images']"
            ]
          },
          "metadata": {
            "tags": []
          },
          "execution_count": 7
        }
      ]
    },
    {
      "cell_type": "code",
      "metadata": {
        "id": "CNr5ikuKwBc-",
        "outputId": "bc6ffd3f-d7f5-4f22-a257-0d6da6e426d3",
        "colab": {
          "base_uri": "https://localhost:8080/"
        }
      },
      "source": [
        "os.listdir('/tmp/rockpaperscissors/val')"
      ],
      "execution_count": 8,
      "outputs": [
        {
          "output_type": "execute_result",
          "data": {
            "text/plain": [
              "['scissors', 'paper', 'rock', 'rps-cv-images']"
            ]
          },
          "metadata": {
            "tags": []
          },
          "execution_count": 8
        }
      ]
    },
    {
      "cell_type": "code",
      "metadata": {
        "id": "_wC8SAjDwDuP"
      },
      "source": [
        "train_rock_dir = os.path.join(train_dir,'rock')\n",
        "train_paper_dir = os.path.join(train_dir, 'paper')\n",
        "train_scissors_dir = os.path.join(train_dir, 'scissors')\n",
        "\n",
        "val_rock_dir = os.path.join(val_dir, 'rock')\n",
        "val_paper_dir = os.path.join(val_dir,'paper')\n",
        "val_scissors_dir = os.path.join(val_dir, 'scissors')"
      ],
      "execution_count": 9,
      "outputs": []
    },
    {
      "cell_type": "code",
      "metadata": {
        "id": "7CiTxieiwF_n"
      },
      "source": [
        "import keras\n",
        "from tensorflow.keras.preprocessing.image import ImageDataGenerator\n",
        "\n",
        "train_datagen = ImageDataGenerator(\n",
        "                    rescale = 1./255,\n",
        "                    rotation_range = 20,\n",
        "                    horizontal_flip = True,\n",
        "                    shear_range = 0.2,\n",
        "                    fill_mode = 'nearest')\n",
        "\n",
        "test_datagen = ImageDataGenerator(\n",
        "                   rescale = 1./255,\n",
        "                   rotation_range = 20,\n",
        "                   horizontal_flip = True,\n",
        "                   shear_range = 0.2,\n",
        "                   fill_mode = 'nearest')"
      ],
      "execution_count": 10,
      "outputs": []
    },
    {
      "cell_type": "code",
      "metadata": {
        "id": "J6aktK5awI5c",
        "outputId": "81adb782-cdc9-425c-98db-18632e627573",
        "colab": {
          "base_uri": "https://localhost:8080/"
        }
      },
      "source": [
        "train_generator = train_datagen.flow_from_directory(\n",
        "        train_dir,\n",
        "        target_size = (150,150),\n",
        "        batch_size = 4,\n",
        "        class_mode = 'categorical')\n",
        "val_generator = test_datagen.flow_from_directory(\n",
        "        val_dir,\n",
        "        target_size = (150,150),\n",
        "        batch_size = 4,\n",
        "        class_mode = 'categorical')"
      ],
      "execution_count": 11,
      "outputs": [
        {
          "output_type": "stream",
          "text": [
            "Found 1312 images belonging to 4 classes.\n",
            "Found 876 images belonging to 4 classes.\n"
          ],
          "name": "stdout"
        }
      ]
    },
    {
      "cell_type": "code",
      "metadata": {
        "id": "OZn8_4ZfwLUA"
      },
      "source": [
        "model = tf.keras.Sequential([\n",
        "    tf.keras.layers.Conv2D(32,(3,3),activation='relu',input_shape=(150,150,3)),\n",
        "    tf.keras.layers.MaxPool2D(2,2),\n",
        "    tf.keras.layers.Conv2D(64,(3,3),activation='relu'),\n",
        "    tf.keras.layers.MaxPool2D(2,2),\n",
        "    tf.keras.layers.Conv2D(128,(3,3),activation='relu'),\n",
        "    tf.keras.layers.MaxPool2D(2,2),\n",
        "    tf.keras.layers.Conv2D(128,(3,3),activation='relu'),\n",
        "    tf.keras.layers.MaxPool2D(2,2),\n",
        "    tf.keras.layers.Flatten(),\n",
        "    tf.keras.layers.Dense(512, activation='relu'),\n",
        "    tf.keras.layers.Dense(4, activation='softmax')\n",
        "])"
      ],
      "execution_count": 12,
      "outputs": []
    },
    {
      "cell_type": "code",
      "metadata": {
        "id": "Rna3sVCuxHY7"
      },
      "source": [
        "model.compile(loss='categorical_crossentropy',\n",
        "              optimizer=tf.optimizers.RMSprop(),\n",
        "              metrics=['accuracy'])"
      ],
      "execution_count": 13,
      "outputs": []
    },
    {
      "cell_type": "code",
      "metadata": {
        "id": "w7BTw0JuxRYr",
        "outputId": "6eda1191-098b-43a4-cb19-b97eb2b33a09",
        "colab": {
          "base_uri": "https://localhost:8080/"
        }
      },
      "source": [
        "from keras.callbacks import EarlyStopping\n",
        "from keras.callbacks import ModelCheckpoint\n",
        "\n",
        "earlyStopping = EarlyStopping(\n",
        "     monitor='accuracy', \n",
        "     mode='max', \n",
        "     verbose=1, \n",
        "     patience=15)\n",
        "modelCheckpoint = ModelCheckpoint(\n",
        "     'best_model.h5', \n",
        "     monitor='accuracy', \n",
        "     mode='max', \n",
        "     verbose=1, \n",
        "     save_best_only=True)\n",
        "\n",
        "history = model.fit(\n",
        "      train_generator,\n",
        "      steps_per_epoch=25,\n",
        "      epochs=100,\n",
        "      validation_data=val_generator,\n",
        "      validation_steps = 8,\n",
        "      callbacks=[earlyStopping, modelCheckpoint],\n",
        "      verbose = 2)"
      ],
      "execution_count": 14,
      "outputs": [
        {
          "output_type": "stream",
          "text": [
            "Epoch 1/100\n",
            "\n",
            "Epoch 00001: accuracy improved from -inf to 0.37000, saving model to best_model.h5\n",
            "25/25 - 7s - loss: 1.4981 - accuracy: 0.3700 - val_loss: 1.1386 - val_accuracy: 0.5000\n",
            "Epoch 2/100\n",
            "\n",
            "Epoch 00002: accuracy did not improve from 0.37000\n",
            "25/25 - 6s - loss: 1.1905 - accuracy: 0.3500 - val_loss: 1.0566 - val_accuracy: 0.4688\n",
            "Epoch 3/100\n",
            "\n",
            "Epoch 00003: accuracy improved from 0.37000 to 0.41000, saving model to best_model.h5\n",
            "25/25 - 6s - loss: 1.1414 - accuracy: 0.4100 - val_loss: 1.0770 - val_accuracy: 0.4375\n",
            "Epoch 4/100\n",
            "\n",
            "Epoch 00004: accuracy improved from 0.41000 to 0.46000, saving model to best_model.h5\n",
            "25/25 - 6s - loss: 1.1385 - accuracy: 0.4600 - val_loss: 0.9303 - val_accuracy: 0.6562\n",
            "Epoch 5/100\n",
            "\n",
            "Epoch 00005: accuracy improved from 0.46000 to 0.68000, saving model to best_model.h5\n",
            "25/25 - 6s - loss: 0.9012 - accuracy: 0.6800 - val_loss: 0.7202 - val_accuracy: 0.6875\n",
            "Epoch 6/100\n",
            "\n",
            "Epoch 00006: accuracy improved from 0.68000 to 0.79000, saving model to best_model.h5\n",
            "25/25 - 6s - loss: 0.6756 - accuracy: 0.7900 - val_loss: 0.7413 - val_accuracy: 0.8125\n",
            "Epoch 7/100\n",
            "\n",
            "Epoch 00007: accuracy improved from 0.79000 to 0.80000, saving model to best_model.h5\n",
            "25/25 - 6s - loss: 0.5947 - accuracy: 0.8000 - val_loss: 0.2758 - val_accuracy: 0.9062\n",
            "Epoch 8/100\n",
            "\n",
            "Epoch 00008: accuracy did not improve from 0.80000\n",
            "25/25 - 6s - loss: 0.5651 - accuracy: 0.7900 - val_loss: 0.6151 - val_accuracy: 0.7188\n",
            "Epoch 9/100\n",
            "\n",
            "Epoch 00009: accuracy improved from 0.80000 to 0.83000, saving model to best_model.h5\n",
            "25/25 - 6s - loss: 0.4582 - accuracy: 0.8300 - val_loss: 1.1460 - val_accuracy: 0.5312\n",
            "Epoch 10/100\n",
            "\n",
            "Epoch 00010: accuracy did not improve from 0.83000\n",
            "25/25 - 6s - loss: 0.5005 - accuracy: 0.8100 - val_loss: 0.2966 - val_accuracy: 0.8750\n",
            "Epoch 11/100\n",
            "\n",
            "Epoch 00011: accuracy did not improve from 0.83000\n",
            "25/25 - 6s - loss: 0.4454 - accuracy: 0.8000 - val_loss: 0.2981 - val_accuracy: 0.8750\n",
            "Epoch 12/100\n",
            "\n",
            "Epoch 00012: accuracy improved from 0.83000 to 0.91000, saving model to best_model.h5\n",
            "25/25 - 6s - loss: 0.2706 - accuracy: 0.9100 - val_loss: 0.7553 - val_accuracy: 0.9062\n",
            "Epoch 13/100\n",
            "\n",
            "Epoch 00013: accuracy did not improve from 0.91000\n",
            "25/25 - 6s - loss: 0.3422 - accuracy: 0.8700 - val_loss: 0.2901 - val_accuracy: 0.9062\n",
            "Epoch 14/100\n",
            "\n",
            "Epoch 00014: accuracy did not improve from 0.91000\n",
            "25/25 - 6s - loss: 0.3384 - accuracy: 0.9000 - val_loss: 0.2487 - val_accuracy: 0.9062\n",
            "Epoch 15/100\n",
            "\n",
            "Epoch 00015: accuracy did not improve from 0.91000\n",
            "25/25 - 6s - loss: 0.3209 - accuracy: 0.8700 - val_loss: 0.2485 - val_accuracy: 0.9375\n",
            "Epoch 16/100\n",
            "\n",
            "Epoch 00016: accuracy improved from 0.91000 to 0.92000, saving model to best_model.h5\n",
            "25/25 - 6s - loss: 0.3411 - accuracy: 0.9200 - val_loss: 0.1512 - val_accuracy: 0.9688\n",
            "Epoch 17/100\n",
            "\n",
            "Epoch 00017: accuracy did not improve from 0.92000\n",
            "25/25 - 6s - loss: 0.4162 - accuracy: 0.9200 - val_loss: 0.1479 - val_accuracy: 0.9688\n",
            "Epoch 18/100\n",
            "\n",
            "Epoch 00018: accuracy did not improve from 0.92000\n",
            "25/25 - 6s - loss: 0.3183 - accuracy: 0.8700 - val_loss: 0.1111 - val_accuracy: 0.9688\n",
            "Epoch 19/100\n",
            "\n",
            "Epoch 00019: accuracy did not improve from 0.92000\n",
            "25/25 - 6s - loss: 0.3157 - accuracy: 0.9000 - val_loss: 0.3131 - val_accuracy: 0.8750\n",
            "Epoch 20/100\n",
            "\n",
            "Epoch 00020: accuracy did not improve from 0.92000\n",
            "25/25 - 6s - loss: 0.3108 - accuracy: 0.8600 - val_loss: 0.4341 - val_accuracy: 0.7812\n",
            "Epoch 21/100\n",
            "\n",
            "Epoch 00021: accuracy improved from 0.92000 to 0.96000, saving model to best_model.h5\n",
            "25/25 - 6s - loss: 0.1186 - accuracy: 0.9600 - val_loss: 0.4731 - val_accuracy: 0.8750\n",
            "Epoch 22/100\n",
            "\n",
            "Epoch 00022: accuracy did not improve from 0.96000\n",
            "25/25 - 6s - loss: 0.3789 - accuracy: 0.8900 - val_loss: 0.4645 - val_accuracy: 0.9062\n",
            "Epoch 23/100\n",
            "\n",
            "Epoch 00023: accuracy did not improve from 0.96000\n",
            "25/25 - 6s - loss: 0.3407 - accuracy: 0.8800 - val_loss: 0.2258 - val_accuracy: 0.8750\n",
            "Epoch 24/100\n",
            "\n",
            "Epoch 00024: accuracy did not improve from 0.96000\n",
            "25/25 - 6s - loss: 0.2057 - accuracy: 0.9300 - val_loss: 0.0953 - val_accuracy: 0.9688\n",
            "Epoch 25/100\n",
            "\n",
            "Epoch 00025: accuracy did not improve from 0.96000\n",
            "25/25 - 6s - loss: 0.2927 - accuracy: 0.8800 - val_loss: 0.1053 - val_accuracy: 0.9688\n",
            "Epoch 26/100\n",
            "\n",
            "Epoch 00026: accuracy did not improve from 0.96000\n",
            "25/25 - 6s - loss: 0.2436 - accuracy: 0.9000 - val_loss: 0.2652 - val_accuracy: 0.9062\n",
            "Epoch 27/100\n",
            "\n",
            "Epoch 00027: accuracy did not improve from 0.96000\n",
            "25/25 - 6s - loss: 0.3074 - accuracy: 0.9100 - val_loss: 0.3099 - val_accuracy: 0.9062\n",
            "Epoch 28/100\n",
            "\n",
            "Epoch 00028: accuracy did not improve from 0.96000\n",
            "25/25 - 6s - loss: 0.2159 - accuracy: 0.9100 - val_loss: 0.7189 - val_accuracy: 0.8750\n",
            "Epoch 29/100\n",
            "\n",
            "Epoch 00029: accuracy did not improve from 0.96000\n",
            "25/25 - 6s - loss: 0.4185 - accuracy: 0.9300 - val_loss: 0.0495 - val_accuracy: 1.0000\n",
            "Epoch 30/100\n",
            "\n",
            "Epoch 00030: accuracy did not improve from 0.96000\n",
            "25/25 - 6s - loss: 0.1818 - accuracy: 0.9300 - val_loss: 0.2502 - val_accuracy: 0.9062\n",
            "Epoch 31/100\n",
            "\n",
            "Epoch 00031: accuracy did not improve from 0.96000\n",
            "25/25 - 6s - loss: 0.1844 - accuracy: 0.9600 - val_loss: 0.1109 - val_accuracy: 0.9688\n",
            "Epoch 32/100\n",
            "\n",
            "Epoch 00032: accuracy did not improve from 0.96000\n",
            "25/25 - 6s - loss: 0.3304 - accuracy: 0.8700 - val_loss: 0.5246 - val_accuracy: 0.8750\n",
            "Epoch 33/100\n",
            "\n",
            "Epoch 00033: accuracy did not improve from 0.96000\n",
            "25/25 - 6s - loss: 0.3642 - accuracy: 0.9000 - val_loss: 0.0351 - val_accuracy: 1.0000\n",
            "Epoch 34/100\n",
            "\n",
            "Epoch 00034: accuracy did not improve from 0.96000\n",
            "25/25 - 6s - loss: 0.1860 - accuracy: 0.9500 - val_loss: 0.2741 - val_accuracy: 0.9375\n",
            "Epoch 35/100\n",
            "\n",
            "Epoch 00035: accuracy did not improve from 0.96000\n",
            "25/25 - 6s - loss: 0.1280 - accuracy: 0.9600 - val_loss: 0.1620 - val_accuracy: 0.9062\n",
            "Epoch 36/100\n",
            "\n",
            "Epoch 00036: accuracy did not improve from 0.96000\n",
            "25/25 - 6s - loss: 0.1876 - accuracy: 0.9500 - val_loss: 0.2006 - val_accuracy: 0.9062\n",
            "Epoch 00036: early stopping\n"
          ],
          "name": "stdout"
        }
      ]
    },
    {
      "cell_type": "code",
      "metadata": {
        "id": "OlsRwOodLLmY",
        "outputId": "fe3a4aa3-e5a2-48ad-d933-fae0003c7af1",
        "colab": {
          "resources": {
            "http://localhost:8080/nbextensions/google.colab/files.js": {
              "data": "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",
              "ok": true,
              "headers": [
                [
                  "content-type",
                  "application/javascript"
                ]
              ],
              "status": 200,
              "status_text": ""
            }
          },
          "base_uri": "https://localhost:8080/",
          "height": 358
        }
      },
      "source": [
        "import numpy as np\n",
        "from google.colab import files\n",
        "from keras.preprocessing import image\n",
        "import matplotlib.pyplot as plt\n",
        "import matplotlib.image as mpimg\n",
        "%matplotlib inline\n",
        " \n",
        "uploaded = files.upload()\n",
        " \n",
        "for fn in uploaded.keys():\n",
        " \n",
        "  # predicting images\n",
        "  path = fn\n",
        "  img = image.load_img(path, target_size=(150,150))\n",
        "  imgplot = plt.imshow(img)\n",
        "  x = image.img_to_array(img)\n",
        "  x = np.expand_dims(x, axis=0)\n",
        "\n",
        "  images = np.vstack([x])\n",
        "  classes = model.predict(images, batch_size=10)\n",
        "\n",
        "  print(fn)\n",
        "  if classes[0][0]==1:\n",
        "    print('Paper')\n",
        "  elif classes[0][1]==1:\n",
        "    print('Rock')\n",
        "  else:\n",
        "    print('Scissor')"
      ],
      "execution_count": 18,
      "outputs": [
        {
          "output_type": "display_data",
          "data": {
            "text/html": [
              "\n",
              "     <input type=\"file\" id=\"files-cb4f842f-7c5a-462b-ae1f-762184ec4831\" name=\"files[]\" multiple disabled\n",
              "        style=\"border:none\" />\n",
              "     <output id=\"result-cb4f842f-7c5a-462b-ae1f-762184ec4831\">\n",
              "      Upload widget is only available when the cell has been executed in the\n",
              "      current browser session. Please rerun this cell to enable.\n",
              "      </output>\n",
              "      <script src=\"/nbextensions/google.colab/files.js\"></script> "
            ],
            "text/plain": [
              "<IPython.core.display.HTML object>"
            ]
          },
          "metadata": {
            "tags": []
          }
        },
        {
          "output_type": "stream",
          "text": [
            "Saving 235103.jpg to 235103.jpg\n",
            "235103.jpg\n",
            "Paper\n"
          ],
          "name": "stdout"
        },
        {
          "output_type": "display_data",
          "data": {
            "image/png": "[encoded data removed]",
            "text/plain": [
              "<Figure size 432x288 with 1 Axes>"
            ]
          },
          "metadata": {
            "tags": [],
            "needs_background": "light"
          }
        }
      ]
    }
  ]
}